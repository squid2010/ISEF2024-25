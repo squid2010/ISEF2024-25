{
 "cells": [
  {
   "cell_type": "code",
   "execution_count": 5,
   "id": "1c6900c4-61b3-4f87-aa11-48d1326d0701",
   "metadata": {},
   "outputs": [
    {
     "data": {
      "image/png": "[encoded data removed]",
      "text/plain": [
       "<Figure size 371.107x284.278 with 1 Axes>"
      ]
     },
     "execution_count": 5,
     "metadata": {},
     "output_type": "execute_result"
    }
   ],
   "source": [
    "from qiskit import QuantumCircuit\n",
    "\n",
    "def make_ghz(num_qubits) -> QuantumCircuit:\n",
    "    qc = QuantumCircuit(num_qubits)\n",
    "    qc.h(0)\n",
    "    for i in range(1,num_qubits):\n",
    "        qc.cx(0, i)\n",
    "    return qc\n",
    "\n",
    "qc = make_ghz(3)\n",
    "qc.draw(\"mpl\")"
   ]
  },
  {
   "cell_type": "code",
   "execution_count": null,
   "id": "b2ad7f62-8054-4fc3-bc33-68d7d1eb59c5",
   "metadata": {},
   "outputs": [],
   "source": [
    "from qiskit_aer import Aer, AerSimulator\n",
    "\n",
    "simulator = Aer.get_backend('qasm_simulator')\n",
    "job = simulator.run(qc, shots=16384)\n",
    "\n",
    "result = job.result()\n",
    "outcomes = result.get_counts(qc)\n",
    "\n",
    "print(\"Outcomes:\")\n",
    "for outcome, count in outcomes.items():\n",
    "    print(f\"{outcome}: {count}\")"
   ]
  }
 ],
 "metadata": {
  "kernelspec": {
   "display_name": "qiskit",
   "language": "python",
   "name": "qiskit"
  },
  "language_info": {
   "codemirror_mode": {
    "name": "ipython",
    "version": 3
   },
   "file_extension": ".py",
   "mimetype": "text/x-python",
   "name": "python",
   "nbconvert_exporter": "python",
   "pygments_lexer": "ipython3",
   "version": "3.12.4"
  }
 },
 "nbformat": 4,
 "nbformat_minor": 5
}
