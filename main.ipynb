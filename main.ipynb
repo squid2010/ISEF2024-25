{
 "cells": [
  {
   "cell_type": "markdown",
   "id": "46bc64f8-51ee-44f9-8689-0b3b5b56590d",
   "metadata": {},
   "source": [
    "<h2 style=\"color:dodgerblue\"> \n",
    "ISEF 2024-25 Project\n",
    "</h2>\n",
    "\n",
    "<h4 style=\"color:white\"> \n",
    "Quantum Error Correction Codes: Accuracy vs Time Complexity\n",
    "</h4>\n",
    "\n",
    "##### <span style=\"color: white;\"> By: Sumer Chaudhary, 9th Grade, BASIS Independent McLean\n",
    "###### <span style=\"color: white;\"> sumerchaudhary1@gmail.com\n",
    "\n",
    "______________________\n",
    "<h6 style=\"color:dodgerblue\"> \n",
    "12/15/2024 - \n",
    "</h6>"
   ]
  },
  {
   "cell_type": "code",
   "execution_count": 15,
   "id": "1c6900c4-61b3-4f87-aa11-48d1326d0701",
   "metadata": {
    "jupyter": {
     "source_hidden": true
    }
   },
   "outputs": [],
   "source": [
    "from qiskit import QuantumCircuit, QuantumRegister, ClassicalRegister, generate_preset_pass_manager, transpile\n",
    "from qiskit.visualization import plot_histogram, plot_circuit_layout\n",
    "from qiskit.quantum_info import Statevector, Operator\n",
    "from qiskit.quantum_info.operators import SparsePauliOp\n",
    "from qiskit.circuit import IfElseOp\n",
    "import numpy as np\n",
    "from qiskit_ibm_runtime import QiskitRuntimeService, Batch, SamplerV2\n",
    "from control import create_bell_state\n",
    "from shor import create_shor_bell_state\n",
    "from steane import create_steane_bell_state\n",
    "from fqc import create_fqc_bell_state\n",
    "\n",
    "service=QiskitRuntimeService(channel=\"ibm_quantum\")"
   ]
  },
  {
   "cell_type": "code",
   "execution_count": 2,
   "id": "e3ba6bae-64aa-4e4f-a202-11f93e8cb8f8",
   "metadata": {
    "jupyter": {
     "source_hidden": true
    }
   },
   "outputs": [
    {
     "name": "stdout",
     "output_type": "stream",
     "text": [
      "ibm_sherbrooke\n"
     ]
    }
   ],
   "source": [
    "backend = service.least_busy(simulator=False)\n",
    "\n",
    "print(backend.name)"
   ]
  },
  {
   "cell_type": "markdown",
   "id": "281f90aa-c210-4eab-9704-05434e16ef0c",
   "metadata": {},
   "source": [
    "<h3 style=\"color:white\"> \n",
    "Control Group\n",
    "</h4>"
   ]
  },
  {
   "cell_type": "code",
   "execution_count": 3,
   "id": "ef17617b-b2e1-476c-bf7a-49140018bdcb",
   "metadata": {
    "jupyter": {
     "source_hidden": true
    }
   },
   "outputs": [],
   "source": [
    "control_qc = create_bell_state()\n",
    "\n",
    "#control_qc.draw(\"mpl\", initial_state=True, scale=0.5, fold=-1, style=\"clifford\", reverse_bits=False, plot_barriers=False, filename=\"Diagrams/control.png\")"
   ]
  },
  {
   "cell_type": "markdown",
   "id": "3c1f4c64-69e8-4f47-b4ca-0c3f670c9402",
   "metadata": {},
   "source": [
    "<h3 style=\"color:white\"> \n",
    "Shor's Error Correction Code\n",
    "</h3>"
   ]
  },
  {
   "cell_type": "code",
   "execution_count": 10,
   "id": "8071cca8-4cd2-47ab-8a02-e8c86ad31b8f",
   "metadata": {
    "jupyter": {
     "source_hidden": true
    },
    "scrolled": true
   },
   "outputs": [],
   "source": [
    "shor_qc = create_shor_bell_state()\n",
    "\n",
    "#shor_qc.draw(\"mpl\", initial_state=True, scale=0.5, fold=-1, style=\"clifford\", reverse_bits=False, plot_barriers=False, filename=\"Diagrams/shor.png\")"
   ]
  },
  {
   "cell_type": "markdown",
   "id": "afab9986-9276-4f2e-820b-005e74fd2470",
   "metadata": {},
   "source": [
    "<h3 style=\"color:white\"> \n",
    "Steane Error Correction Code\n",
    "</h3>"
   ]
  },
  {
   "cell_type": "code",
   "execution_count": 5,
   "id": "d9467753-d681-44c6-9869-82f3b828ff76",
   "metadata": {
    "jupyter": {
     "source_hidden": true
    }
   },
   "outputs": [],
   "source": [
    "steane_qc = create_steane_bell_state()\n",
    "\n",
    "#qc.draw(\"mpl\", style=\"clifford\", scale=0.75, fold=-1, plot_barriers=True, initial_state=True, justify=\"none\", filename=\"Diagrams/steane.png\")"
   ]
  },
  {
   "cell_type": "markdown",
   "id": "47016013-25b0-4484-a672-a7fc107309e0",
   "metadata": {},
   "source": [
    "<h3 style=\"color:white\"> \n",
    "Five-qubit Error Correction Code\n",
    "</h3>"
   ]
  },
  {
   "cell_type": "code",
   "execution_count": 7,
   "id": "35e03168-7c83-49cc-ba3d-e8f1573cd29c",
   "metadata": {
    "jupyter": {
     "source_hidden": true
    }
   },
   "outputs": [],
   "source": [
    "fqc_qc = create_fqc_bell_state()\n",
    "\n",
    "#fqc_qc.draw(\"mpl\", initial_state=True, scale=0.5, fold=-1, style=\"clifford\", reverse_bits=False, plot_barriers=True, justify=\"none\", filename=\"Diagrams/five_qubit_code.png\")"
   ]
  },
  {
   "cell_type": "markdown",
   "id": "6dddaf04-f248-45fe-a144-af8484538299",
   "metadata": {},
   "source": [
    "<h3 style=\"color:white\"> \n",
    "    Running experiments\n",
    "</h3>"
   ]
  },
  {
   "cell_type": "code",
   "execution_count": 11,
   "id": "a4e536d4-dff6-4a6a-9688-677270bdb210",
   "metadata": {},
   "outputs": [],
   "source": [
    "# Convert to an ISA circuit and layout-mapped observables.\n",
    "pm = generate_preset_pass_manager(backend=backend, optimization_level=3)\n",
    "control_isa_circuit = pm.run(control_qc)\n",
    "shor_isa_circuit = pm.run(shor_qc)\n",
    "steane_isa_circuit = pm.run(steane_qc)\n",
    "fqc_isa_circuit = pm.run(fqc_qc)"
   ]
  },
  {
   "cell_type": "code",
   "execution_count": 16,
   "id": "e30f0611-7526-4811-a9c9-d51b8b290721",
   "metadata": {},
   "outputs": [
    {
     "name": "stdout",
     "output_type": "stream",
     "text": [
      ">>> Control Job ID: cxyyjtby1ae0008nh2ng\n",
      ">>> Shor Job ID: cxyyjtv3wrp0008m4fpg\n"
     ]
    }
   ],
   "source": [
    "# Create a batch of jobs\n",
    "with Batch(backend=backend):\n",
    "    sampler = SamplerV2()\n",
    "    \n",
    "    #Run each circuit (maximum of three pending jobs, so I can only run these three, and then run the Five Qubit Code (I'm also running the Steane code after because debugging stuff)\n",
    "    control_job = sampler.run(pubs=[control_isa_circuit], shots=1024)\n",
    "    shor_job = sampler.run(pubs=[shor_isa_circuit], shots=1024)\n",
    "\n",
    "\n",
    "print(f\">>> Control Job ID: {control_job.job_id()}\")\n",
    "print(f\">>> Shor Job ID: {shor_job.job_id()}\")\n"
   ]
  },
  {
   "cell_type": "code",
   "execution_count": 43,
   "id": "633387d2-394a-4ecb-81ff-f340b05683b5",
   "metadata": {},
   "outputs": [],
   "source": [
    "#Get the results\n",
    "control_result = control_job.result()\n",
    "shor_result = shor_job.result()"
   ]
  },
  {
   "cell_type": "code",
   "execution_count": 64,
   "id": "538dceec-f858-49fc-87a4-68763a227e65",
   "metadata": {},
   "outputs": [],
   "source": [
    "#plot_histogram(control_result[0].data.c.get_counts(), filename=\"FinalResults/control.png\")\n",
    "#plot_histogram(shor_result[0].data.c.get_counts(), filename=\"FinalResults/shor.png\")"
   ]
  },
  {
   "cell_type": "code",
   "execution_count": 12,
   "id": "484152eb-4fe4-4b9a-955b-c4ef4401ce1d",
   "metadata": {},
   "outputs": [
    {
     "ename": "NameError",
     "evalue": "name 'Batch' is not defined",
     "output_type": "error",
     "traceback": [
      "\u001b[0;31m---------------------------------------------------------------------------\u001b[0m",
      "\u001b[0;31mNameError\u001b[0m                                 Traceback (most recent call last)",
      "Cell \u001b[0;32mIn[12], line 1\u001b[0m\n\u001b[0;32m----> 1\u001b[0m \u001b[38;5;28;01mwith\u001b[39;00m Batch(backend\u001b[38;5;241m=\u001b[39mbackend):\n\u001b[1;32m      2\u001b[0m     sampler \u001b[38;5;241m=\u001b[39m SamplerV2()\n\u001b[1;32m      4\u001b[0m     \u001b[38;5;66;03m#Run the other two jobs\u001b[39;00m\n",
      "\u001b[0;31mNameError\u001b[0m: name 'Batch' is not defined"
     ]
    }
   ],
   "source": [
    "with Batch(backend=backend):\n",
    "    sampler = SamplerV2()\n",
    "\n",
    "    #Run the other two jobs\n",
    "    steane_job = sampler.run(pubs=[steane_isa_circuit], shots=1024)\n",
    "    fqc_job = sampler.run(pubs=[fqc_isa_circuit], shots=1024)\n",
    "\n",
    "print(f\">>> Steane Job ID: {steane_job.job_id()}\")\n",
    "print(f\">>> Five Qubit Code Job ID: {fqc_job.job_id()}\")\n"
   ]
  },
  {
   "cell_type": "code",
   "execution_count": 86,
   "id": "c794b594-6632-4253-8748-3554119b6f8e",
   "metadata": {},
   "outputs": [],
   "source": [
    "steane_result = steane_job.result()\n",
    "#fqc_result = fqc_job.result()"
   ]
  },
  {
   "cell_type": "code",
   "execution_count": null,
   "id": "4090c2a0-0d52-4c13-8fd3-7b99638b3067",
   "metadata": {},
   "outputs": [],
   "source": []
  },
  {
   "cell_type": "code",
   "execution_count": null,
   "id": "2a3af936-ec5c-411c-890f-3ad0a9c915d3",
   "metadata": {},
   "outputs": [],
   "source": []
  }
 ],
 "metadata": {
  "kernelspec": {
   "display_name": "qiskit",
   "language": "python",
   "name": "qiskit"
  },
  "language_info": {
   "codemirror_mode": {
    "name": "ipython",
    "version": 3
   },
   "file_extension": ".py",
   "mimetype": "text/x-python",
   "name": "python",
   "nbconvert_exporter": "python",
   "pygments_lexer": "ipython3",
   "version": "3.12.4"
  }
 },
 "nbformat": 4,
 "nbformat_minor": 5
}
