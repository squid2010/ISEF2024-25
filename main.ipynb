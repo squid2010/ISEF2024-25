{
 "cells": [
  {
   "cell_type": "markdown",
   "id": "46bc64f8-51ee-44f9-8689-0b3b5b56590d",
   "metadata": {},
   "source": [
    "<h1 style=\"color:dodgerblue\"> \n",
    "ISEF 2024-25 Project\n",
    "</h1>\n",
    "\n",
    "<h3 style=\"color:white\"> \n",
    "Quantum Error Correction Codes: Accuracy vs Time Complexity\n",
    "</h3>\n",
    "\n",
    "##### <span style=\"color: white;\"> By: Sumer Chaudhary, 9th Grade, BASIS Independent McLean\n",
    "###### <span style=\"color: white;\"> sumerchaudhary1@gmail.com\n",
    "\n",
    "______________________\n",
    "<h6 style=\"color:dodgerblue\"> \n",
    "12/15/2024 - \n",
    "</h6>"
   ]
  },
  {
   "cell_type": "markdown",
   "id": "6c66a599-ada6-4770-9118-c2dd38addad3",
   "metadata": {},
   "source": [
    "<h2 style=\"color:white\"> \n",
    "Imports and Setup\n",
    "</h2>"
   ]
  },
  {
   "cell_type": "code",
   "execution_count": 1,
   "id": "1c6900c4-61b3-4f87-aa11-48d1326d0701",
   "metadata": {},
   "outputs": [],
   "source": [
    "from qiskit import QuantumCircuit, QuantumRegister, ClassicalRegister, generate_preset_pass_manager, transpile\n",
    "from qiskit.visualization import plot_histogram, plot_circuit_layout\n",
    "from qiskit.quantum_info import Statevector, Operator\n",
    "from qiskit.quantum_info.operators import SparsePauliOp\n",
    "from qiskit.circuit import IfElseOp\n",
    "import matplotlib.pyplot as plt\n",
    "import numpy as np\n",
    "import pandas as pd\n",
    "from qiskit_ibm_runtime import QiskitRuntimeService, Batch, SamplerV2\n",
    "from control import create_bell_state\n",
    "from shor import create_shor_bell_state\n",
    "from steane import create_steane_bell_state\n",
    "from fqc import create_fqc_bell_state\n",
    "\n",
    "service=QiskitRuntimeService(channel=\"ibm_quantum\")"
   ]
  },
  {
   "cell_type": "code",
   "execution_count": 2,
   "id": "e3ba6bae-64aa-4e4f-a202-11f93e8cb8f8",
   "metadata": {
    "jupyter": {
     "source_hidden": true
    }
   },
   "outputs": [],
   "source": [
    "from qiskit_aer import AerSimulator\n",
    "from qiskit_aer.noise import NoiseModel\n",
    "\n",
    "qBackend = service.least_busy(simulator=False)\n",
    "\n",
    "noise_model = NoiseModel.from_backend(qBackend)\n",
    "simBackend = AerSimulator(noise_model=noise_model, method=\"matrix_product_state\")"
   ]
  },
  {
   "cell_type": "markdown",
   "id": "99511d3b-5edc-4d8d-8572-4dcfa1402fb8",
   "metadata": {},
   "source": [
    "<h2 style=\"color:white\"> \n",
    "Creating Circuits\n",
    "</h2>"
   ]
  },
  {
   "cell_type": "markdown",
   "id": "281f90aa-c210-4eab-9704-05434e16ef0c",
   "metadata": {},
   "source": [
    "<h3 style=\"color:white\"> \n",
    "Control Group\n",
    "</h3>"
   ]
  },
  {
   "cell_type": "code",
   "execution_count": 3,
   "id": "ef17617b-b2e1-476c-bf7a-49140018bdcb",
   "metadata": {
    "jupyter": {
     "source_hidden": true
    }
   },
   "outputs": [],
   "source": [
    "control_qc = create_bell_state()\n",
    "\n",
    "#control_qc.draw(\"mpl\", initial_state=True, scale=0.5, fold=-1, style=\"clifford\", reverse_bits=False, plot_barriers=False, filename=\"Diagrams/control.png\")"
   ]
  },
  {
   "cell_type": "markdown",
   "id": "3c1f4c64-69e8-4f47-b4ca-0c3f670c9402",
   "metadata": {},
   "source": [
    "<h3 style=\"color:white\"> \n",
    "Shor's Error Correction Code\n",
    "</h3>"
   ]
  },
  {
   "cell_type": "code",
   "execution_count": 4,
   "id": "8071cca8-4cd2-47ab-8a02-e8c86ad31b8f",
   "metadata": {
    "scrolled": true
   },
   "outputs": [],
   "source": [
    "shor_qc = create_shor_bell_state()\n",
    "\n",
    "#shor_qc.draw(\"mpl\", initial_state=True, scale=0.5, fold=-1, style=\"clifford\", reverse_bits=False, plot_barriers=True, filename=\"Diagrams/shor.png\")"
   ]
  },
  {
   "cell_type": "markdown",
   "id": "afab9986-9276-4f2e-820b-005e74fd2470",
   "metadata": {},
   "source": [
    "<h3 style=\"color:white\"> \n",
    "Steane Error Correction Code\n",
    "</h3>"
   ]
  },
  {
   "cell_type": "code",
   "execution_count": 5,
   "id": "d9467753-d681-44c6-9869-82f3b828ff76",
   "metadata": {},
   "outputs": [],
   "source": [
    "steane_qc = create_steane_bell_state()\n",
    "\n",
    "#steane_qc.draw(\"mpl\", style=\"clifford\", scale=0.75, fold=-1, plot_barriers=True, initial_state=True, justify=\"none\", filename=\"Diagrams/steane.png\")"
   ]
  },
  {
   "cell_type": "markdown",
   "id": "47016013-25b0-4484-a672-a7fc107309e0",
   "metadata": {},
   "source": [
    "<h3 style=\"color:white\"> \n",
    "Five-qubit Error Correction Code\n",
    "</h3>"
   ]
  },
  {
   "cell_type": "code",
   "execution_count": 6,
   "id": "35e03168-7c83-49cc-ba3d-e8f1573cd29c",
   "metadata": {},
   "outputs": [],
   "source": [
    "fqc_qc = create_fqc_bell_state()\n",
    "\n",
    "#fqc_qc.draw(\"mpl\", initial_state=True, scale=0.5, fold=-1, style=\"clifford\", reverse_bits=False, plot_barriers=True, justify=\"none\", filename=\"Diagrams/five_qubit_code.png\")"
   ]
  },
  {
   "cell_type": "markdown",
   "id": "a0a74d86-a2c0-4b9c-a56a-7242e7d5d959",
   "metadata": {},
   "source": [
    "<h2 style=\"color:white\"> \n",
    "    Running experiments\n",
    "</h2>"
   ]
  },
  {
   "cell_type": "markdown",
   "id": "979f595f-e19a-436d-a899-e116738c5db7",
   "metadata": {},
   "source": [
    "<h3 style=\"color:white\"> \n",
    "Simulator\n",
    "</h3>"
   ]
  },
  {
   "cell_type": "code",
   "execution_count": 7,
   "id": "b87eb267-e7ac-4db7-8c76-dab06dca581f",
   "metadata": {},
   "outputs": [],
   "source": [
    "# Convert to an ISA circuit (circuit mapped to the backend's Information Set Architecture),\n",
    "# and layout-mapped observables.\n",
    "circuits = [control_qc, shor_qc, steane_qc, fqc_qc]\n",
    "pm = generate_preset_pass_manager(backend=simBackend, optimization_level=3)\n",
    "isa_circuits = [pm.run(circuit) for circuit in circuits]"
   ]
  },
  {
   "cell_type": "code",
   "execution_count": 8,
   "id": "4ca6fe66-fcd0-4f23-9280-7779f89e23d0",
   "metadata": {},
   "outputs": [],
   "source": [
    "#Run the ISA circuits\n",
    "numShots = 250\n",
    "jobs = [simBackend.run(circuit, shots=numShots) for circuit in isa_circuits]"
   ]
  },
  {
   "cell_type": "code",
   "execution_count": 9,
   "id": "0f18218e-e78e-419e-a186-700063f08a5a",
   "metadata": {},
   "outputs": [
    {
     "name": "stdout",
     "output_type": "stream",
     "text": [
      "[{'00': 107, '01': 8, '10': 12, '11': 123}, {'00': 61, '01': 62, '10': 47, '11': 80}, {'00': 80, '01': 52, '10': 52, '11': 66}, {'00': 101, '01': 27, '10': 24, '11': 98}] \n",
      " [{'Bell State Unencoded': 0.7096672058105469}, {\"Bell State Encoded with Shor's Code\": 401.93678522109985}, {\"Bell State Encoded with Steane's Code\": 252.62819480895996}, {'Bell State Encoded with the Five Qubit Code': 5.963917016983032}]\n"
     ]
    }
   ],
   "source": [
    "results = []\n",
    "time = []\n",
    "for job in jobs:\n",
    "    proc_results = {'00': 0, '01': 0, '10': 0, '11': 0}\n",
    "    proc_time = {circuits[jobs.index(job)].name: job.result().time_taken}\n",
    "    for res in job.result().get_counts(0):\n",
    "        proc_results[res[:2]] += job.result().get_counts(0)[res]\n",
    "    results.append(proc_results)\n",
    "    time.append(proc_time)\n",
    "\n",
    "print(results, \"\\n\", time)"
   ]
  },
  {
   "cell_type": "code",
   "execution_count": 32,
   "id": "35a326c6-ea56-4803-90c6-2e9138bfd5ab",
   "metadata": {},
   "outputs": [],
   "source": [
    "plot_histogram(results, filename=\"Results/all.png\")"
   ]
  },
  {
   "cell_type": "code",
   "execution_count": 31,
   "id": "aaa94e5a-5166-4179-b18b-47fe61cba829",
   "metadata": {},
   "outputs": [
    {
     "data": {
      "image/png": "[encoded data removed]",
      "text/plain": [
       "<Figure size 500x500 with 1 Axes>"
      ]
     },
     "metadata": {},
     "output_type": "display_data"
    }
   ],
   "source": [
    "names = [list(item.keys())[0] for item in time]\n",
    "times = [list(item.values())[0] for item in time]\n",
    "\n",
    "# Plot the bar chart\n",
    "plt.figure(figsize=(5, 5))  # Adjust size as needed\n",
    "plt.bar(names, times, color='lightblue')\n",
    "\n",
    "\n",
    "# Add labels and title\n",
    "plt.xlabel('Bell State Variants', fontsize=12)\n",
    "plt.ylabel('Time (seconds)', fontsize=12)\n",
    "plt.title('Time for Different Encoded Bell State', fontsize=14)\n",
    "plt.xticks(rotation=20, ha='right', fontsize=10)  # Rotate labels for readability\n",
    "\n",
    "# Show gridlines\n",
    "plt.grid(axis='y', linestyle='--', alpha=0.7)\n",
    "\n",
    "# Show the plot\n",
    "plt.tight_layout()  # Adjust layout to prevent label cutoff\n",
    "plt.savefig('Results/time.png')\n",
    "plt.show()\n",
    "plt.close()"
   ]
  },
  {
   "cell_type": "markdown",
   "id": "6dddaf04-f248-45fe-a144-af8484538299",
   "metadata": {},
   "source": [
    "<h3 style=\"color:white\"> \n",
    "    Quantum Computer\n",
    "</h3>"
   ]
  },
  {
   "cell_type": "code",
   "execution_count": 29,
   "id": "a4e536d4-dff6-4a6a-9688-677270bdb210",
   "metadata": {
    "jupyter": {
     "source_hidden": true
    }
   },
   "outputs": [],
   "source": [
    "# Convert to an ISA circuit and layout-mapped observables.\n",
    "pm = generate_preset_pass_manager(backend=qBackend, optimization_level=3)\n",
    "control_isa_circuit = pm.run(control_qc)\n",
    "shor_isa_circuit = pm.run(shor_qc)\n",
    "steane_isa_circuit = pm.run(steane_qc)\n",
    "fqc_isa_circuit = pm.run(fqc_qc)"
   ]
  },
  {
   "cell_type": "code",
   "execution_count": 16,
   "id": "e30f0611-7526-4811-a9c9-d51b8b290721",
   "metadata": {
    "jupyter": {
     "source_hidden": true
    }
   },
   "outputs": [
    {
     "name": "stdout",
     "output_type": "stream",
     "text": [
      ">>> Control Job ID: cxyyjtby1ae0008nh2ng\n",
      ">>> Shor Job ID: cxyyjtv3wrp0008m4fpg\n"
     ]
    }
   ],
   "source": [
    "# Create a batch of jobs\n",
    "with Batch(backend=qBackend):\n",
    "    sampler = SamplerV2()\n",
    "    \n",
    "    #Run each circuit (maximum of three pending jobs, so I can only run these three, and then run the Five Qubit Code (I'm also running the Steane code after because debugging stuff)\n",
    "    control_job = sampler.run(pubs=[control_isa_circuit], shots=1024)\n",
    "    shor_job = sampler.run(pubs=[shor_isa_circuit], shots=1024)\n",
    "\n",
    "\n",
    "print(f\">>> Control Job ID: {control_job.job_id()}\")\n",
    "print(f\">>> Shor Job ID: {shor_job.job_id()}\")\n"
   ]
  },
  {
   "cell_type": "code",
   "execution_count": 17,
   "id": "633387d2-394a-4ecb-81ff-f340b05683b5",
   "metadata": {
    "collapsed": true,
    "jupyter": {
     "outputs_hidden": true,
     "source_hidden": true
    }
   },
   "outputs": [
    {
     "ename": "RuntimeInvalidStateError",
     "evalue": "'Unable to retrieve result for job cxyyjtv3wrp0008m4fpg. Job was cancelled.'",
     "output_type": "error",
     "traceback": [
      "\u001b[0;31m---------------------------------------------------------------------------\u001b[0m",
      "\u001b[0;31mRuntimeInvalidStateError\u001b[0m                  Traceback (most recent call last)",
      "Cell \u001b[0;32mIn[17], line 3\u001b[0m\n\u001b[1;32m      1\u001b[0m \u001b[38;5;66;03m#Get the results\u001b[39;00m\n\u001b[1;32m      2\u001b[0m control_result \u001b[38;5;241m=\u001b[39m control_job\u001b[38;5;241m.\u001b[39mresult()\n\u001b[0;32m----> 3\u001b[0m shor_result \u001b[38;5;241m=\u001b[39m shor_job\u001b[38;5;241m.\u001b[39mresult()\n",
      "File \u001b[0;32m~/Qiskit/miniconda3/envs/qiskit/lib/python3.12/site-packages/qiskit_ibm_runtime/runtime_job_v2.py:142\u001b[0m, in \u001b[0;36mRuntimeJobV2.result\u001b[0;34m(self, timeout, decoder)\u001b[0m\n\u001b[1;32m    140\u001b[0m     \u001b[38;5;28;01mraise\u001b[39;00m RuntimeJobFailureError(\u001b[38;5;124mf\u001b[39m\u001b[38;5;124m\"\u001b[39m\u001b[38;5;124mUnable to retrieve job result. \u001b[39m\u001b[38;5;132;01m{\u001b[39;00merror_message\u001b[38;5;132;01m}\u001b[39;00m\u001b[38;5;124m\"\u001b[39m)\n\u001b[1;32m    141\u001b[0m \u001b[38;5;28;01mif\u001b[39;00m \u001b[38;5;28mself\u001b[39m\u001b[38;5;241m.\u001b[39m_status \u001b[38;5;241m==\u001b[39m \u001b[38;5;124m\"\u001b[39m\u001b[38;5;124mCANCELLED\u001b[39m\u001b[38;5;124m\"\u001b[39m:\n\u001b[0;32m--> 142\u001b[0m     \u001b[38;5;28;01mraise\u001b[39;00m RuntimeInvalidStateError(\n\u001b[1;32m    143\u001b[0m         \u001b[38;5;124m\"\u001b[39m\u001b[38;5;124mUnable to retrieve result for job \u001b[39m\u001b[38;5;132;01m{}\u001b[39;00m\u001b[38;5;124m. \u001b[39m\u001b[38;5;124m\"\u001b[39m \u001b[38;5;124m\"\u001b[39m\u001b[38;5;124mJob was cancelled.\u001b[39m\u001b[38;5;124m\"\u001b[39m\u001b[38;5;241m.\u001b[39mformat(\u001b[38;5;28mself\u001b[39m\u001b[38;5;241m.\u001b[39mjob_id())\n\u001b[1;32m    144\u001b[0m     )\n\u001b[1;32m    146\u001b[0m result_raw \u001b[38;5;241m=\u001b[39m \u001b[38;5;28mself\u001b[39m\u001b[38;5;241m.\u001b[39m_download_external_result(\n\u001b[1;32m    147\u001b[0m     \u001b[38;5;28mself\u001b[39m\u001b[38;5;241m.\u001b[39m_api_client\u001b[38;5;241m.\u001b[39mjob_results(job_id\u001b[38;5;241m=\u001b[39m\u001b[38;5;28mself\u001b[39m\u001b[38;5;241m.\u001b[39mjob_id())\n\u001b[1;32m    148\u001b[0m )\n\u001b[1;32m    150\u001b[0m \u001b[38;5;28;01mreturn\u001b[39;00m _decoder\u001b[38;5;241m.\u001b[39mdecode(result_raw) \u001b[38;5;28;01mif\u001b[39;00m result_raw \u001b[38;5;28;01melse\u001b[39;00m \u001b[38;5;28;01mNone\u001b[39;00m\n",
      "\u001b[0;31mRuntimeInvalidStateError\u001b[0m: 'Unable to retrieve result for job cxyyjtv3wrp0008m4fpg. Job was cancelled.'"
     ]
    }
   ],
   "source": [
    "#Get the results\n",
    "control_result = control_job.result()\n",
    "shor_result = shor_job.result()"
   ]
  },
  {
   "cell_type": "code",
   "execution_count": 28,
   "id": "538dceec-f858-49fc-87a4-68763a227e65",
   "metadata": {
    "collapsed": true,
    "jupyter": {
     "outputs_hidden": true,
     "source_hidden": true
    }
   },
   "outputs": [
    {
     "ename": "NameError",
     "evalue": "name 'control_result' is not defined",
     "output_type": "error",
     "traceback": [
      "\u001b[0;31m---------------------------------------------------------------------------\u001b[0m",
      "\u001b[0;31mNameError\u001b[0m                                 Traceback (most recent call last)",
      "Cell \u001b[0;32mIn[28], line 1\u001b[0m\n\u001b[0;32m----> 1\u001b[0m plot_histogram(control_result[\u001b[38;5;241m0\u001b[39m]\u001b[38;5;241m.\u001b[39mdata\u001b[38;5;241m.\u001b[39mc\u001b[38;5;241m.\u001b[39mget_counts(), filename\u001b[38;5;241m=\u001b[39m\u001b[38;5;124m\"\u001b[39m\u001b[38;5;124mFinalResults/control.png\u001b[39m\u001b[38;5;124m\"\u001b[39m)\n\u001b[1;32m      2\u001b[0m plot_histogram(shor_result[\u001b[38;5;241m0\u001b[39m]\u001b[38;5;241m.\u001b[39mdata\u001b[38;5;241m.\u001b[39mc\u001b[38;5;241m.\u001b[39mget_counts(), filename\u001b[38;5;241m=\u001b[39m\u001b[38;5;124m\"\u001b[39m\u001b[38;5;124mFinalResults/shor.png\u001b[39m\u001b[38;5;124m\"\u001b[39m)\n",
      "\u001b[0;31mNameError\u001b[0m: name 'control_result' is not defined"
     ]
    }
   ],
   "source": [
    "plot_histogram(control_result[0].data.c.get_counts(), filename=\"FinalResults/control.png\")\n",
    "plot_histogram(shor_result[0].data.c.get_counts(), filename=\"FinalResults/shor.png\")"
   ]
  },
  {
   "cell_type": "code",
   "execution_count": 17,
   "id": "484152eb-4fe4-4b9a-955b-c4ef4401ce1d",
   "metadata": {
    "jupyter": {
     "source_hidden": true
    }
   },
   "outputs": [
    {
     "name": "stdout",
     "output_type": "stream",
     "text": [
      ">>> Steane Job ID: cy07hbn6vek0008r8fkg\n",
      ">>> Five Qubit Code Job ID: cy07hc5cw2k0008jct50\n"
     ]
    }
   ],
   "source": [
    "with Batch(backend=qBackend):\n",
    "    sampler = SamplerV2()\n",
    "\n",
    "    #Run the other two jobs\n",
    "    steane_job = sampler.run(pubs=[steane_isa_circuit], shots=1024)\n",
    "    fqc_job = sampler.run(pubs=[fqc_isa_circuit], shots=1024)\n",
    "\n",
    "print(f\">>> Steane Job ID: {steane_job.job_id()}\")\n",
    "print(f\">>> Five Qubit Code Job ID: {fqc_job.job_id()}\")"
   ]
  },
  {
   "cell_type": "code",
   "execution_count": 18,
   "id": "c794b594-6632-4253-8748-3554119b6f8e",
   "metadata": {
    "collapsed": true,
    "jupyter": {
     "outputs_hidden": true,
     "source_hidden": true
    }
   },
   "outputs": [
    {
     "ename": "RuntimeJobFailureError",
     "evalue": "'Unable to retrieve job result. Error code 6103; Internal OpenQASM3 compilation error'",
     "output_type": "error",
     "traceback": [
      "\u001b[0;31m---------------------------------------------------------------------------\u001b[0m",
      "\u001b[0;31mRuntimeJobFailureError\u001b[0m                    Traceback (most recent call last)",
      "Cell \u001b[0;32mIn[18], line 2\u001b[0m\n\u001b[1;32m      1\u001b[0m steane_result \u001b[38;5;241m=\u001b[39m steane_job\u001b[38;5;241m.\u001b[39mresult()\n\u001b[0;32m----> 2\u001b[0m fqc_result \u001b[38;5;241m=\u001b[39m fqc_job\u001b[38;5;241m.\u001b[39mresult()\n",
      "File \u001b[0;32m~/Qiskit/miniconda3/envs/qiskit/lib/python3.12/site-packages/qiskit_ibm_runtime/runtime_job_v2.py:140\u001b[0m, in \u001b[0;36mRuntimeJobV2.result\u001b[0;34m(self, timeout, decoder)\u001b[0m\n\u001b[1;32m    138\u001b[0m     \u001b[38;5;28;01mif\u001b[39;00m \u001b[38;5;28mself\u001b[39m\u001b[38;5;241m.\u001b[39m_reason \u001b[38;5;241m==\u001b[39m \u001b[38;5;124m\"\u001b[39m\u001b[38;5;124mRAN TOO LONG\u001b[39m\u001b[38;5;124m\"\u001b[39m:\n\u001b[1;32m    139\u001b[0m         \u001b[38;5;28;01mraise\u001b[39;00m RuntimeJobMaxTimeoutError(error_message)\n\u001b[0;32m--> 140\u001b[0m     \u001b[38;5;28;01mraise\u001b[39;00m RuntimeJobFailureError(\u001b[38;5;124mf\u001b[39m\u001b[38;5;124m\"\u001b[39m\u001b[38;5;124mUnable to retrieve job result. \u001b[39m\u001b[38;5;132;01m{\u001b[39;00merror_message\u001b[38;5;132;01m}\u001b[39;00m\u001b[38;5;124m\"\u001b[39m)\n\u001b[1;32m    141\u001b[0m \u001b[38;5;28;01mif\u001b[39;00m \u001b[38;5;28mself\u001b[39m\u001b[38;5;241m.\u001b[39m_status \u001b[38;5;241m==\u001b[39m \u001b[38;5;124m\"\u001b[39m\u001b[38;5;124mCANCELLED\u001b[39m\u001b[38;5;124m\"\u001b[39m:\n\u001b[1;32m    142\u001b[0m     \u001b[38;5;28;01mraise\u001b[39;00m RuntimeInvalidStateError(\n\u001b[1;32m    143\u001b[0m         \u001b[38;5;124m\"\u001b[39m\u001b[38;5;124mUnable to retrieve result for job \u001b[39m\u001b[38;5;132;01m{}\u001b[39;00m\u001b[38;5;124m. \u001b[39m\u001b[38;5;124m\"\u001b[39m \u001b[38;5;124m\"\u001b[39m\u001b[38;5;124mJob was cancelled.\u001b[39m\u001b[38;5;124m\"\u001b[39m\u001b[38;5;241m.\u001b[39mformat(\u001b[38;5;28mself\u001b[39m\u001b[38;5;241m.\u001b[39mjob_id())\n\u001b[1;32m    144\u001b[0m     )\n",
      "\u001b[0;31mRuntimeJobFailureError\u001b[0m: 'Unable to retrieve job result. Error code 6103; Internal OpenQASM3 compilation error'"
     ]
    }
   ],
   "source": [
    "steane_result = steane_job.result()\n",
    "fqc_result = fqc_job.result()"
   ]
  },
  {
   "cell_type": "code",
   "execution_count": 88,
   "id": "15de2c1d-b8ec-4512-8650-de87b1082ef8",
   "metadata": {},
   "outputs": [
    {
     "ename": "NameError",
     "evalue": "name 'steane_result' is not defined",
     "output_type": "error",
     "traceback": [
      "\u001b[0;31m---------------------------------------------------------------------------\u001b[0m",
      "\u001b[0;31mNameError\u001b[0m                                 Traceback (most recent call last)",
      "Cell \u001b[0;32mIn[88], line 1\u001b[0m\n\u001b[0;32m----> 1\u001b[0m plot_histogram(steane_result[\u001b[38;5;241m0\u001b[39m]\u001b[38;5;241m.\u001b[39mdata\u001b[38;5;241m.\u001b[39mmeasured_output\u001b[38;5;241m.\u001b[39mget_counts(), filename\u001b[38;5;241m=\u001b[39m\u001b[38;5;124m\"\u001b[39m\u001b[38;5;124mFinalResults/steane.png\u001b[39m\u001b[38;5;124m\"\u001b[39m)\n",
      "\u001b[0;31mNameError\u001b[0m: name 'steane_result' is not defined"
     ]
    }
   ],
   "source": [
    "plot_histogram(steane_result[0].data.measured_output.get_counts(), filename=\"FinalResults/steane.png\")\n",
    "#plot_histogram(fqc_result[0].data.measured_output.get_counts(), filename=\"FinalResults/fqc.png\")"
   ]
  },
  {
   "cell_type": "code",
   "execution_count": null,
   "id": "db33fa86-5de0-4de2-b2c4-689d5c76b091",
   "metadata": {},
   "outputs": [],
   "source": []
  }
 ],
 "metadata": {
  "kernelspec": {
   "display_name": "qiskit",
   "language": "python",
   "name": "qiskit"
  },
  "language_info": {
   "codemirror_mode": {
    "name": "ipython",
    "version": 3
   },
   "file_extension": ".py",
   "mimetype": "text/x-python",
   "name": "python",
   "nbconvert_exporter": "python",
   "pygments_lexer": "ipython3",
   "version": "3.12.4"
  }
 },
 "nbformat": 4,
 "nbformat_minor": 5
}
