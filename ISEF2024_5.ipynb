{
 "cells": [
  {
   "cell_type": "markdown",
   "id": "46bc64f8-51ee-44f9-8689-0b3b5b56590d",
   "metadata": {},
   "source": [
    "<h2 style=\"color:dodgerblue\"> \n",
    "ISEF 2024-25 Project\n",
    "</h2>\n",
    "\n",
    "<h4 style=\"color:white\"> \n",
    "Quantum Error Correction Codes: Accuracy vs Time Complexity\n",
    "</h4>\n",
    "\n",
    "##### <span style=\"color: white;\"> By: Sumer Chaudhary, BASIS Independent McLean\n",
    "______________________\n",
    "<h6 style=\"color:dodgerblue\"> \n",
    "12/15/2024 - \n",
    "</h6>"
   ]
  },
  {
   "cell_type": "code",
   "execution_count": 1,
   "id": "1c6900c4-61b3-4f87-aa11-48d1326d0701",
   "metadata": {
    "jupyter": {
     "source_hidden": true
    }
   },
   "outputs": [],
   "source": [
    "from qiskit import QuantumCircuit, QuantumRegister, ClassicalRegister, generate_preset_pass_manager, transpile\n",
    "from qiskit.visualization import plot_histogram, plot_circuit_layout\n",
    "from qiskit.quantum_info import Statevector, Operator\n",
    "from qiskit.quantum_info.operators import SparsePauliOp\n",
    "from qiskit.circuit import IfElseOp\n",
    "import numpy as np\n",
    "from qiskit_ibm_runtime import QiskitRuntimeService\n",
    "\n",
    "service=QiskitRuntimeService(channel=\"ibm_quantum\")"
   ]
  },
  {
   "cell_type": "code",
   "execution_count": 2,
   "id": "bc0d6744-ab02-447c-b371-00883d8df1d1",
   "metadata": {
    "jupyter": {
     "source_hidden": true
    }
   },
   "outputs": [],
   "source": [
    "def cxx(qc, c, q1, q2):\n",
    "    qc.cx(c, q1)\n",
    "    qc.cx(c, q2)\n",
    "\n",
    "def cxxx(qc, c, q1, q2, q3):\n",
    "    qc.cx(c, q1)\n",
    "    qc.cx(c, q2)\n",
    "    qc.cx(c, q3)\n",
    "\n",
    "def cxxxx(qc, c, q1, q2, q3, q4): \n",
    "    qc.cx(c,q1)\n",
    "    qc.cx(c,q2)\n",
    "    qc.cx(c,q3)\n",
    "    qc.cx(c,q4)\n",
    "\n",
    "def czz(qc, c, q1, q2):\n",
    "    qc.cz(c, q1)\n",
    "    qc.cz(c, q2)\n",
    "\n",
    "def czzz(qc, c, q1, q2, q3):\n",
    "    qc.cz(c, q1)\n",
    "    qc.cz(c, q2)\n",
    "    qc.cz(c, q3)\n",
    "\n",
    "def czzzz(qc, c, q1, q2, q3, q4): \n",
    "    qc.cz(c,q1)\n",
    "    qc.cz(c,q2)\n",
    "    qc.cz(c,q3)\n",
    "    qc.cz(c,q4)\n",
    "\n",
    "def cxxzz(qc, c, q1, q2, q3, q4):\n",
    "    qc.cx(c, q1)\n",
    "    qc.cx(c, q2)\n",
    "    qc.cz(c, q3)\n",
    "    qc.cz(c, q4)"
   ]
  },
  {
   "cell_type": "code",
   "execution_count": 3,
   "id": "758bb32c-b620-47c2-8104-1081d067225f",
   "metadata": {
    "jupyter": {
     "source_hidden": true
    }
   },
   "outputs": [],
   "source": [
    "def encode_with_shors(qc, log_reg, stab_reg):\n",
    "    cxx(qc, log_reg[0], stab_reg[2], stab_reg[5])\n",
    "\n",
    "    qc.h(log_reg[0])\n",
    "    qc.h(stab_reg[2])\n",
    "    qc.h(stab_reg[5])\n",
    "\n",
    "    cxx(qc, log_reg[0], stab_reg[0], stab_reg[1])\n",
    "\n",
    "    cxx(qc, stab_reg[2], stab_reg[3], stab_reg[4])\n",
    "\n",
    "    cxx(qc, stab_reg[5], stab_reg[6], stab_reg[7])\n",
    "\n",
    "    qc.barrier()\n",
    "\n",
    "\n",
    "def decode_with_shors(qc, log_reg, class_reg, stab_reg):\n",
    "    cxx(qc, log_reg[0], stab_reg[0], stab_reg[1])\n",
    "\n",
    "    cxx(qc, stab_reg[2], stab_reg[3], stab_reg[4])\n",
    "\n",
    "    cxx(qc, stab_reg[5], stab_reg[6], stab_reg[7])\n",
    "\n",
    "    qc.ccx(stab_reg[1], stab_reg[0], log_reg[0])\n",
    "    qc.ccx(stab_reg[4], stab_reg[3], stab_reg[2])\n",
    "    qc.ccx(stab_reg[7], stab_reg[6], stab_reg[5])\n",
    "\n",
    "    qc.h(log_reg[0])\n",
    "    qc.h(stab_reg[2])\n",
    "    qc.h(stab_reg[5])\n",
    "\n",
    "    cxx(qc, log_reg[0], stab_reg[2], stab_reg[5])\n",
    "\n",
    "    qc.ccx(stab_reg[5], stab_reg[2], log_reg[0])\n",
    "\n",
    "    qc.barrier()"
   ]
  },
  {
   "cell_type": "code",
   "execution_count": 4,
   "id": "7bf8b231-a95e-4a3a-bc58-0f36c2587a3b",
   "metadata": {
    "jupyter": {
     "source_hidden": true
    }
   },
   "outputs": [],
   "source": [
    "def encode_with_steane(qc, log_q, stab_reg):\n",
    "    cxx(qc, log_q, stab_reg[4], stab_reg[5])\n",
    "    \n",
    "    qc.h(stab_reg[:3])\n",
    "        \n",
    "    cxxx(qc, stab_reg[0], stab_reg[3], stab_reg[5], log_q)\n",
    "\n",
    "    cxxx(qc, stab_reg[1], stab_reg[3], stab_reg[4], log_q)\n",
    "\n",
    "    cxxx(qc, stab_reg[2], stab_reg[3], stab_reg[4], stab_reg[5])\n",
    "\n",
    "    qc.barrier()\n",
    "\n",
    "def steane_measure_syndrome(qc, log_q, stab_reg, anc_reg, class_reg):\n",
    "    qc.h(anc_reg[:6])\n",
    "\n",
    "    cxxxx(qc, anc_reg[0], stab_reg[0], stab_reg[4], stab_reg[5], log_q)\n",
    "    cxxxx(qc, anc_reg[1], stab_reg[1], stab_reg[3], stab_reg[5], log_q)\n",
    "    cxxxx(qc, anc_reg[2], stab_reg[2], stab_reg[3], stab_reg[4], stab_reg[5])\n",
    "    \n",
    "    czzzz(qc, anc_reg[3], stab_reg[0], stab_reg[4], stab_reg[5], log_q)\n",
    "    czzzz(qc, anc_reg[4], stab_reg[1], stab_reg[3], stab_reg[5], log_q)\n",
    "    czzzz(qc, anc_reg[5], stab_reg[2], stab_reg[3], stab_reg[4], stab_reg[5])\n",
    "\n",
    "    qc.h(anc_reg)    \n",
    "    qc.measure(anc_reg, class_reg)\n",
    "\n",
    "    qc.barrier()\n",
    "\n",
    "\n",
    "def steane_correct_errors(qc, log_q, stab_reg, class_reg):\n",
    "    # Define correction gates using a mapping of the table values.\n",
    "    def apply_correction(circuit, correction, qubit):\n",
    "        if correction == \"X\":\n",
    "            circuit.x(qubit)\n",
    "        elif correction == \"Z\":\n",
    "            circuit.z(qubit)\n",
    "        elif correction == \"Y\":\n",
    "            circuit.y(qubit)\n",
    "        elif correction == \"I\":\n",
    "            circuit.i(qubit) #does nothing, just to be there\n",
    "\n",
    "    corrections = { # All of them are the Y errors, as the first half of the number would be the Z error, and the second, the X\n",
    "    36: stab_reg[0],\n",
    "    18: stab_reg[1],\n",
    "    9:  stab_reg[2],\n",
    "    54: stab_reg[3],\n",
    "    45: stab_reg[4],\n",
    "    63: stab_reg[5],\n",
    "    27: log_q\n",
    "    }\n",
    "\n",
    "    # Iterate through all correction cases from the table.\n",
    "    for decimal_value, qubit in corrections.items():\n",
    "        # Prepare the classical condition for the current value.\n",
    "        one_vals = []\n",
    "        condition = [int(x) for x in format(decimal_value, '06b')]\n",
    "        control_ops = []\n",
    "        for i, value in enumerate(condition):\n",
    "            if value==1:\n",
    "                one_vals.append(i-len(one_vals))\n",
    "            control_ops.append(qc.if_test((class_reg[i], value)))\n",
    "\n",
    "        for i in range(len(one_vals)):\n",
    "            if_test = control_ops.pop(one_vals[i])\n",
    "            control_ops.append(if_test)\n",
    "\n",
    "        \n",
    "        one_vals = [] #clear the one_vals, as they are no longer correct\n",
    "        \n",
    "        for i in range(len(control_ops)): \n",
    "            if control_ops[i].condition[1]==1:\n",
    "                one_vals.append(i)\n",
    "\n",
    "        # Split the one_vals into Z and X checks for the Y condition.\n",
    "        z_checks = one_vals[:len(one_vals) // 2]  # First half corresponds to Z checks.\n",
    "        x_checks = one_vals[len(one_vals) // 2 : len(one_vals)]  # Second half corresponds to X checks.\n",
    "        \n",
    "        \n",
    "        # Apply the correction for the matched condition.\n",
    "        if z_checks[0] != 0:\n",
    "            with control_ops[0]:\n",
    "                with control_ops[1]:\n",
    "                    if z_checks[0] != 2:\n",
    "                        with control_ops[2]:\n",
    "                            with control_ops[3]:\n",
    "                                if z_checks[0] != 4: #if we reach this point, z_checks should always be 4, this is just for safety\n",
    "                                    with control_ops[4]:\n",
    "                                        with control_ops[5]:\n",
    "                                            apply_correction(qc, \"I\", qubit)\n",
    "\n",
    "                                else: #2 bits need to be one\n",
    "                                    with control_ops[z_checks[0]] as else1:\n",
    "                                        with control_ops[x_checks[0]] as else2:\n",
    "                                            apply_correction(qc, \"Y\", qubit)\n",
    "                                        with else2:\n",
    "                                            apply_correction(qc, \"Z\", qubit)\n",
    "                                    with else1:\n",
    "                                        with control_ops[x_checks[0]]:\n",
    "                                            apply_correction(qc, \"X\", qubit)\n",
    "                                        \n",
    "                    else: #4 bits need to be one\n",
    "                        with control_ops[z_checks[0]] as else1:\n",
    "                            with control_ops[z_checks[1]]:\n",
    "                                with control_ops[x_checks[0]] as else2:\n",
    "                                    with control_ops[x_checks[1]]:\n",
    "                                        apply_correction(qc, \"Y\", qubit)\n",
    "                                with else2:\n",
    "                                    apply_correction(qc, \"Z\", qubit)    \n",
    "                        with else1:\n",
    "                            with control_ops[x_checks[0]]:\n",
    "                                 with control_ops[x_checks[1]]:\n",
    "                                    apply_correction(qc, \"X\", qubit)\n",
    "                                     \n",
    "        else: #All 6 bits need to be one\n",
    "            with control_ops[z_checks[0]] as else1:\n",
    "                with control_ops[z_checks[1]]:\n",
    "                    with control_ops[z_checks[2]]:\n",
    "                        with control_ops[x_checks[0]] as else2:\n",
    "                            with control_ops[x_checks[1]]:\n",
    "                                with control_ops[x_checks[2]]:\n",
    "                                    apply_correction(qc, \"Y\", qubit)\n",
    "                        with else2:\n",
    "                            apply_correction(qc, \"Z\", qubit)\n",
    "            with else1:\n",
    "                with control_ops[x_checks[0]]:\n",
    "                    with control_ops[x_checks[1]]:\n",
    "                        with control_ops[x_checks[2]]:\n",
    "                            apply_correction(qc, \"X\", qubit)\n",
    "\n",
    "\n",
    "    qc.barrier()\n",
    "\n",
    "    \n",
    "def decode_with_steane(qc, log_q, stab_reg, out_q):\n",
    "    qc.cx(stab_reg[0], out_q)\n",
    "    qc.cx(stab_reg[1], out_q)\n",
    "\n",
    "    qc.cx(log_q, out_q)\n",
    "\n",
    "    cxxx(qc, out_q, stab_reg[4], stab_reg[5], log_q)\n",
    "\n",
    "    qc.barrier()"
   ]
  },
  {
   "cell_type": "code",
   "execution_count": 5,
   "id": "32bc223a-8836-4e87-9b08-bf1ca599723a",
   "metadata": {
    "jupyter": {
     "source_hidden": true
    }
   },
   "outputs": [],
   "source": [
    "def encode_with_five_qubit_code(qc, log_q, stab_reg):\n",
    "    qc.h(stab_reg[0])\n",
    "    qc.s(stab_reg[0])\n",
    "    qc.cy(stab_reg[0], log_q)\n",
    "    \n",
    "    qc.h(stab_reg[1])\n",
    "    qc.cx(stab_reg[1], log_q)\n",
    "    \n",
    "    qc.h(stab_reg[2])\n",
    "    czz(qc, stab_reg[2], stab_reg[0], stab_reg[1])\n",
    "    qc.cx(stab_reg[2], log_q)\n",
    "        \n",
    "    qc.h(stab_reg[3])\n",
    "    qc.s(stab_reg[3])\n",
    "    czz(qc, stab_reg[3], stab_reg[0], stab_reg[2])\n",
    "    qc.cy(stab_reg[3], log_q)\n",
    "\n",
    "    qc.barrier()\n",
    "\n",
    "def five_qubit_code_measure_syndrome(qc, log_q, stab_reg, anc_reg, class_reg):\n",
    "    qc.h(anc_reg)\n",
    "    \n",
    "    cxxzz(qc, anc_reg[0], stab_reg[0], stab_reg[3], stab_reg[1], stab_reg[2])\n",
    "    cxxzz(qc, anc_reg[1], stab_reg[1], log_q, stab_reg[2], stab_reg[3])\n",
    "    cxxzz(qc, anc_reg[2], stab_reg[0], stab_reg[2], stab_reg[3], log_q)\n",
    "    cxxzz(qc, anc_reg[3], stab_reg[1], stab_reg[3], stab_reg[0], log_q)\n",
    "\n",
    "    qc.h(anc_reg)\n",
    "    qc.measure(anc_reg, class_reg)\n",
    "\n",
    "    qc.barrier()\n",
    "\n",
    "def five_qubit_code_correct_errors(qc, log_q, stab_reg, class_reg):\n",
    "    # Define correction gates using a mapping of the table values.\n",
    "    def apply_correction(circuit, correction, qubit):\n",
    "        if correction == \"X\":\n",
    "            circuit.x(qubit)\n",
    "        elif correction == \"Z\":\n",
    "            circuit.z(qubit)\n",
    "        elif correction == \"Y\":\n",
    "            circuit.y(qubit)\n",
    "        elif correction == \"I\":\n",
    "            circuit.i(qubit) #does nothing, just to be there\n",
    "\n",
    "    corrections = {\n",
    "        1: [\"X\", stab_reg[0]], 10: [\"Z\", stab_reg[0]], 11: [\"Y\", stab_reg[0]],\n",
    "        8: [\"X\", stab_reg[1]], 5: [\"Z\", stab_reg[1]], 13: [\"Y\", stab_reg[1]],\n",
    "        12: [\"X\", stab_reg[2]], 2: [\"Z\", stab_reg[2]], 14: [\"Y\", stab_reg[2]],\n",
    "        6: [\"X\", stab_reg[3]], 9: [\"Z\", stab_reg[3]], 15: [\"Y\", stab_reg[3]],\n",
    "        3: [\"X\", log_q],      4: [\"Z\", log_q],       7: [\"Y\", log_q]\n",
    "    }\n",
    "\n",
    "\n",
    "    # Iterate through all correction cases from the table.\n",
    "    for decimal_value, correction_qubit in corrections.items():\n",
    "        # Prepare the classical condition for the current value.\n",
    "        condition = [int(x) for x in format(decimal_value, '04b')]\n",
    "        control_ops = [\n",
    "            qc.if_test((class_reg[i], value))\n",
    "            for i, value in enumerate(condition)\n",
    "        ]\n",
    "        with control_ops[0]:\n",
    "            with control_ops[1]:\n",
    "                    with control_ops[2]:\n",
    "                        with control_ops[3]:\n",
    "                            apply_correction(qc, correction_qubit[0], correction_qubit[1])\n",
    "    qc.barrier()\n",
    "    \n",
    "def decode_with_five_qubit_code(qc, log_q, stab_reg, out_q):\n",
    "    qc.cx(stab_reg, out_q)\n",
    "    qc.cx(log_q, out_q)\n",
    "    czz(qc, out_q, stab_reg[0], stab_reg[3])\n",
    "    qc.cx(out_q, log_q)\n",
    "\n",
    "    qc.barrier()"
   ]
  },
  {
   "cell_type": "code",
   "execution_count": 6,
   "id": "e3ba6bae-64aa-4e4f-a202-11f93e8cb8f8",
   "metadata": {
    "jupyter": {
     "source_hidden": true
    }
   },
   "outputs": [],
   "source": [
    "from qiskit_aer import AerSimulator\n",
    "from qiskit_aer.noise import NoiseModel\n",
    "\n",
    "backend_name = \"ibm_brisbane\"\n",
    "backend = service.backend(backend_name)\n",
    "\n",
    "#noise_model = NoiseModel.from_backend(backend)\n",
    "#backend = AerSimulator(noise_model=noise_model, method=\"matrix_product_state\")\n",
    "\n",
    "#passmanager = generate_preset_pass_manager(\n",
    "#    optimization_level=3, backend=backend\n",
    "#)"
   ]
  },
  {
   "cell_type": "markdown",
   "id": "281f90aa-c210-4eab-9704-05434e16ef0c",
   "metadata": {},
   "source": [
    "<h3 style=\"color:white\"> \n",
    "Control Group\n",
    "</h4>"
   ]
  },
  {
   "cell_type": "code",
   "execution_count": 7,
   "id": "ef17617b-b2e1-476c-bf7a-49140018bdcb",
   "metadata": {
    "jupyter": {
     "source_hidden": true
    }
   },
   "outputs": [
    {
     "data": {
      "text/plain": [
       "<qiskit.circuit.instructionset.InstructionSet at 0x135c21030>"
      ]
     },
     "execution_count": 7,
     "metadata": {},
     "output_type": "execute_result"
    }
   ],
   "source": [
    "q = QuantumRegister(2, 'q')\n",
    "c = ClassicalRegister(2, 'c')\n",
    "control_qc = QuantumCircuit(q,c)\n",
    "\n",
    "#Bell State\n",
    "control_qc.h(q[0])\n",
    "control_qc.cx(q[0],q[1])\n",
    "\n",
    "#Measure\n",
    "control_qc.measure(q[0], c[0])\n",
    "control_qc.measure(q[1], c[1])\n",
    "\n",
    "#qc.draw(\"mpl\", initial_state=True, scale=0.5, fold=-1, style=\"clifford\", reverse_bits=False, plot_barriers=False, filename=\"Diagrams/control.png\")\n",
    "\n",
    "#control_noisy_circ = passmanager.run(qc)\n",
    "\n",
    "#result = backend.run(noisy_circ, shots=8192).result()\n",
    "#plot_histogram(result.get_counts(0), filename=\"Results/control.png\")"
   ]
  },
  {
   "cell_type": "markdown",
   "id": "3c1f4c64-69e8-4f47-b4ca-0c3f670c9402",
   "metadata": {},
   "source": [
    "<h3 style=\"color:white\"> \n",
    "Shor's Error Correction Code\n",
    "</h3>"
   ]
  },
  {
   "cell_type": "code",
   "execution_count": 8,
   "id": "8071cca8-4cd2-47ab-8a02-e8c86ad31b8f",
   "metadata": {
    "jupyter": {
     "source_hidden": true
    },
    "scrolled": true
   },
   "outputs": [
    {
     "data": {
      "text/plain": [
       "<qiskit.circuit.instructionset.InstructionSet at 0x1358bf730>"
      ]
     },
     "execution_count": 8,
     "metadata": {},
     "output_type": "execute_result"
    }
   ],
   "source": [
    "q1 = QuantumRegister(1, 'q1')\n",
    "q2 = QuantumRegister(1, 'q2')\n",
    "c = ClassicalRegister(2,'c')\n",
    "a1 = QuantumRegister(8, 'a1')\n",
    "a2 = QuantumRegister(8, 'a2')\n",
    "shor_qc = QuantumCircuit(q1,a1,q2,a2,c)\n",
    "\n",
    "shor_qc.initialize(0, a1)\n",
    "shor_qc.initialize(0, a2)\n",
    "\n",
    "shor_qc.barrier()\n",
    "\n",
    "#Bell State\n",
    "shor_qc.h(q1[0])\n",
    "shor_qc.cx(q1[0],q2[0])\n",
    "\n",
    "shor_qc.barrier()\n",
    "\n",
    "#Encode\n",
    "encode_with_shors(shor_qc, q1, a1)\n",
    "encode_with_shors(shor_qc, q2, a2)\n",
    "\n",
    "#Decode\n",
    "decode_with_shors(shor_qc, q1, c, a1)\n",
    "decode_with_shors(shor_qc, q2, c, a2)\n",
    "\n",
    "#Measure\n",
    "shor_qc.measure(q1[0], c[0])\n",
    "shor_qc.measure(q2[0], c[1])\n",
    "\n",
    "#qc.draw(\"mpl\", initial_state=True, scale=0.5, fold=-1, style=\"clifford\", reverse_bits=False, plot_barriers=False, filename=\"Diagrams/shor.png\")\n",
    "\n",
    "#shor_noisy_circ = passmanager.run(qc)\n",
    "\n",
    "#result = backend.run(noisy_circ, shots=8192).result()\n",
    "\n",
    "#plot_histogram(result.get_counts(0), filename=\"Results/shor.png\")\n",
    "\n"
   ]
  },
  {
   "cell_type": "markdown",
   "id": "afab9986-9276-4f2e-820b-005e74fd2470",
   "metadata": {},
   "source": [
    "<h3 style=\"color:white\"> \n",
    "Steane Error Correction Code\n",
    "</h3>"
   ]
  },
  {
   "cell_type": "code",
   "execution_count": 9,
   "id": "d9467753-d681-44c6-9869-82f3b828ff76",
   "metadata": {
    "jupyter": {
     "source_hidden": true
    }
   },
   "outputs": [
    {
     "data": {
      "text/plain": [
       "<qiskit.circuit.instructionset.InstructionSet at 0x13612df00>"
      ]
     },
     "execution_count": 9,
     "metadata": {},
     "output_type": "execute_result"
    }
   ],
   "source": [
    "q1 = QuantumRegister(1, 'log_qubit 1')\n",
    "s1 = QuantumRegister(6, 'stabilizer 1')\n",
    "o1 = QuantumRegister(1, 'output 1')\n",
    "a1 = QuantumRegister(6, 'ancilla 1')\n",
    "c1 = ClassicalRegister(6, 'measured errors 1')\n",
    "r1 = ClassicalRegister(1, 'measured output 1')\n",
    "q2 = QuantumRegister(1, 'log_qubit 2')\n",
    "s2 = QuantumRegister(6, 'stabilizer 2')\n",
    "o2 = QuantumRegister(1, 'output 2')\n",
    "a2 = QuantumRegister(6, 'ancilla 2')\n",
    "c2 = ClassicalRegister(6, 'measured errors 2')\n",
    "r2 = ClassicalRegister(1, 'measured output 2')\n",
    "steane_qc = QuantumCircuit(a1, s1, q1, a2, s2, q2, o1, o2, c1, c2, r1, r2)\n",
    "\n",
    "#steane_qc.reset(range(steane_qc.num_qubits))\n",
    "\n",
    "steane_qc.initialize(0, s1)\n",
    "steane_qc.initialize(0, o1)\n",
    "steane_qc.initialize(0, a1)\n",
    "steane_qc.initialize(0, s2)\n",
    "steane_qc.initialize(0, o2)\n",
    "steane_qc.initialize(0, a2)\n",
    "\n",
    "steane_qc.barrier()\n",
    "\n",
    "steane_qc.h(q1[0])\n",
    "steane_qc.cx(q1[0], q2[0])\n",
    "\n",
    "steane_qc.barrier()\n",
    "\n",
    "#Encode Qubits\n",
    "encode_with_steane(steane_qc, q1[0], s1)\n",
    "encode_with_steane(steane_qc, q2[0], s2)\n",
    "\n",
    "#Measure Syndrome\n",
    "steane_measure_syndrome(steane_qc, q1[0], s1, a1, c1)\n",
    "steane_measure_syndrome(steane_qc, q2[0], s2, a2, c2)\n",
    "\n",
    "#Correct Errors\n",
    "steane_correct_errors(steane_qc, q1[0], s1, c1)\n",
    "steane_correct_errors(steane_qc, q2[0], s2, c2)\n",
    "\n",
    "#Decode Qubits\n",
    "decode_with_steane(steane_qc, q1[0], s1, o1[0])\n",
    "decode_with_steane(steane_qc, q2[0], s2, o2[0])\n",
    "\n",
    "steane_qc.barrier()\n",
    "\n",
    "#Measure Output\n",
    "steane_qc.measure(o1[0], r1[0])\n",
    "steane_qc.measure(o2[0], r2[0])\n",
    "\n",
    "#steane_noisy_circ=passmanager.run(qc)\n",
    "\n",
    "#qc.draw(\"mpl\", style=\"clifford\", scale=0.75, fold=-1, plot_barriers=True, initial_state=True, justify=\"none\", filename=\"Diagrams/steane.png\")\n",
    "\n",
    "## Check circuit properties\n",
    "#print(\"Depth:\", qc.depth())\n",
    "#print(\"Number of qubits:\", qc.num_qubits)\n",
    "#print(\"Number of gates:\", qc.size())"
   ]
  },
  {
   "cell_type": "code",
   "execution_count": 10,
   "id": "dae937d7-787f-4381-934f-97944b26f283",
   "metadata": {
    "jupyter": {
     "source_hidden": true
    }
   },
   "outputs": [],
   "source": [
    "#result = backend.run(noisy_circ, shots=8192).result()"
   ]
  },
  {
   "cell_type": "code",
   "execution_count": 11,
   "id": "c37f2ed0-3a48-45f5-adef-9ef6de6bf4d3",
   "metadata": {
    "jupyter": {
     "source_hidden": true
    }
   },
   "outputs": [],
   "source": [
    "#proc_results = {\"0 0\" : 0, \"0 1\" : 0, \"1 0\" : 0, \"1 1\" : 0}\n",
    "#for res in result.get_counts(0):\n",
    "#    proc_results[res[:3]] += result.get_counts(0)[res]\n",
    "#plot_histogram(proc_results, filename=\"Results/steane.png\")"
   ]
  },
  {
   "cell_type": "markdown",
   "id": "47016013-25b0-4484-a672-a7fc107309e0",
   "metadata": {},
   "source": [
    "<h3 style=\"color:white\"> \n",
    "Five-qubit Error Correction Code\n",
    "</h3>"
   ]
  },
  {
   "cell_type": "code",
   "execution_count": 12,
   "id": "35e03168-7c83-49cc-ba3d-e8f1573cd29c",
   "metadata": {
    "jupyter": {
     "source_hidden": true
    }
   },
   "outputs": [
    {
     "data": {
      "text/plain": [
       "<qiskit.circuit.instructionset.InstructionSet at 0x1358ed900>"
      ]
     },
     "execution_count": 12,
     "metadata": {},
     "output_type": "execute_result"
    }
   ],
   "source": [
    "q1 = QuantumRegister(1, 'log_qubit 1')\n",
    "s1 = QuantumRegister(4, 'stabilizer 1')\n",
    "o1 = QuantumRegister(1, 'output 1')\n",
    "a1 = QuantumRegister(4, 'anicilla 1')\n",
    "c1 = ClassicalRegister(4, 'measured errors 1')\n",
    "r1 = ClassicalRegister(1, 'measured output 1')\n",
    "q2 = QuantumRegister(1, 'log_qubit 2')\n",
    "s2 = QuantumRegister(4, 'stabilizer 2')\n",
    "o2 = QuantumRegister(1, 'output 2')\n",
    "a2 = QuantumRegister(4, 'anicilla 2')\n",
    "c2 = ClassicalRegister(4, 'measured errors 2')\n",
    "r2 = ClassicalRegister(1, 'measured output 2')\n",
    "fqc_qc = QuantumCircuit(a1, s1, q1, o1, a2, s2, q2, o2, c1, c2, r1, r2)\n",
    "\n",
    "fqc_qc.initialize(0, s1)\n",
    "fqc_qc.initialize(0, o1)\n",
    "fqc_qc.initialize(0, s2)\n",
    "fqc_qc.initialize(0, o2)\n",
    "\n",
    "fqc_qc.barrier()\n",
    "\n",
    "#Set up Bell State\n",
    "fqc_qc.h(q1[0])\n",
    "fqc_qc.cx(q1[0], q2[0])\n",
    "\n",
    "fqc_qc.barrier()\n",
    "\n",
    "#Encode Qubits\n",
    "encode_with_five_qubit_code(fqc_qc, q1[0], s1)\n",
    "encode_with_five_qubit_code(fqc_qc, q2[0], s2)\n",
    "\n",
    "#Measure Syndrome\n",
    "five_qubit_code_measure_syndrome(fqc_qc, q1[0], s1, a1, c1)\n",
    "five_qubit_code_measure_syndrome(fqc_qc, q2[0], s2, a2, c2)\n",
    "\n",
    "#Correct Errors\n",
    "five_qubit_code_correct_errors(fqc_qc, q1[0], s1, c1)\n",
    "five_qubit_code_correct_errors(fqc_qc, q2[0], s2, c2)\n",
    "\n",
    "#Decode Qubits\n",
    "decode_with_five_qubit_code(fqc_qc, q1[0], s1, o1[0])\n",
    "decode_with_five_qubit_code(fqc_qc, q2[0], s2, o2[0])\n",
    "\n",
    "fqc_qc.barrier()\n",
    "\n",
    "#Measure\n",
    "fqc_qc.measure(o1[0], r1[0])\n",
    "fqc_qc.measure(o2[0], r2[0])\n",
    "\n",
    "#noisy_circ=passmanager.run(fqc_qc)\n",
    "\n",
    "#fqc_qc.draw(\"mpl\", initial_state=True, scale=0.5, fold=-1, style=\"clifford\", reverse_bits=False, plot_barriers=True, justify=\"none\", filename=\"Diagrams/five_qubit_code.png\")"
   ]
  },
  {
   "cell_type": "code",
   "execution_count": 13,
   "id": "e2db4363-ffec-41a1-8b8d-8af4d6275375",
   "metadata": {
    "jupyter": {
     "source_hidden": true
    }
   },
   "outputs": [],
   "source": [
    "#result = backend.run(noisy_circ, shots=8096).result()"
   ]
  },
  {
   "cell_type": "code",
   "execution_count": 14,
   "id": "72441b85-b1f2-48cd-86d4-07eb71aad851",
   "metadata": {
    "jupyter": {
     "source_hidden": true
    }
   },
   "outputs": [],
   "source": [
    "#proc_results = {\"0 0\" : 0, \"0 1\" : 0, \"1 0\" : 0, \"1 1\" : 0}\n",
    "#for res in result.get_counts(0):\n",
    "#    proc_results[res[:3]] += result.get_counts(0)[res]\n",
    "#plot_histogram(proc_results, filename=\"Results/five_qubit_code.png\")"
   ]
  },
  {
   "cell_type": "markdown",
   "id": "6dddaf04-f248-45fe-a144-af8484538299",
   "metadata": {},
   "source": [
    "<h3 style=\"color:white\"> \n",
    "    Running experiments\n",
    "</h3>"
   ]
  },
  {
   "cell_type": "code",
   "execution_count": 15,
   "id": "a4e536d4-dff6-4a6a-9688-677270bdb210",
   "metadata": {},
   "outputs": [],
   "source": [
    "# Convert to an ISA circuit and layout-mapped observables.\n",
    "pm = generate_preset_pass_manager(backend=backend, optimization_level=3)\n",
    "control_isa_circuit = pm.run(control_qc)\n",
    "shor_isa_circuit = pm.run(shor_qc)\n",
    "steane_isa_circuit = pm.run(steane_qc)\n",
    "fqc_isa_circuit = pm.run(fqc_qc)"
   ]
  },
  {
   "cell_type": "code",
   "execution_count": null,
   "id": "e30f0611-7526-4811-a9c9-d51b8b290721",
   "metadata": {},
   "outputs": [],
   "source": [
    "from qiskit_ibm_runtime import Batch, SamplerV2\n",
    "\n",
    "# Create a batch of jobs\n",
    "with Batch(backend=backend):\n",
    "    sampler = SamplerV2()\n",
    "    \n",
    "    #Run each circuit (maximum of three pending jobs, so I can only run these three, and then run the Five Qubit Code\n",
    "    control_job = sampler.run(pubs=[control_isa_circuit], shots=1024)\n",
    "    shor_job = sampler.run(pubs=[shor_isa_circuit], shots=1024)\n",
    "    steane_job = sampler.run(pubs=[steane_isa_circuit], shots=1024)\n",
    "\n",
    "\n",
    "print(f\">>> Control Job ID: {control_job.job_id()}\")\n",
    "print(f\">>> Shor Job ID: {shor_job.job_id()}\")\n",
    "print(f\">>> Steane Job ID: {steane_job.job_id()}\")"
   ]
  },
  {
   "cell_type": "code",
   "execution_count": null,
   "id": "633387d2-394a-4ecb-81ff-f340b05683b5",
   "metadata": {},
   "outputs": [],
   "source": [
    "#Get the results\n",
    "control_result = control_job.result()\n",
    "shor_result = shor_job.result()\n",
    "steane_result = steane_job.result()"
   ]
  },
  {
   "cell_type": "code",
   "execution_count": null,
   "id": "484152eb-4fe4-4b9a-955b-c4ef4401ce1d",
   "metadata": {},
   "outputs": [],
   "source": [
    "sampler = SamplerV2(mode=backend)\n",
    "fqc_job = sampler.run(pubs=[fqc_isa_circuit], shots=1024)\n",
    "print(f\">>> Five Qubit Code Job ID: {fqc_job.job_id()}\")\n",
    "fqc_result = fqc_job.result()"
   ]
  }
 ],
 "metadata": {
  "kernelspec": {
   "display_name": "qiskit",
   "language": "python",
   "name": "qiskit"
  },
  "language_info": {
   "codemirror_mode": {
    "name": "ipython",
    "version": 3
   },
   "file_extension": ".py",
   "mimetype": "text/x-python",
   "name": "python",
   "nbconvert_exporter": "python",
   "pygments_lexer": "ipython3",
   "version": "3.12.4"
  }
 },
 "nbformat": 4,
 "nbformat_minor": 5
}
